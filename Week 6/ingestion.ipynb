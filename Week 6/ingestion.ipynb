{
 "cells": [
  {
   "cell_type": "code",
   "execution_count": 1,
   "metadata": {},
   "outputs": [],
   "source": [
    "import os\n",
    "import time\n",
    "import gc\n",
    "import pandas as pd\n",
    "import dask.dataframe as dd\n",
    "import csv\n",
    "import gzip\n"
   ]
  },
  {
   "cell_type": "markdown",
   "metadata": {},
   "source": [
    "### Read the file with Pandas"
   ]
  },
  {
   "cell_type": "code",
   "execution_count": 2,
   "metadata": {},
   "outputs": [
    {
     "name": "stdout",
     "output_type": "stream",
     "text": [
      "The time taken for reading the file with Pandas: 00 min 05 sec 329 ms\n"
     ]
    },
    {
     "data": {
      "text/plain": [
       "20"
      ]
     },
     "execution_count": 2,
     "metadata": {},
     "output_type": "execute_result"
    }
   ],
   "source": [
    "start = time.time()\n",
    "\n",
    "pandas_df = pd.read_csv('Parking_Violations_Issued_-_Fiscal_Year_2017.csv')\n",
    "\n",
    "finish = time.time()\n",
    "\n",
    "diff_min, diff_sec = divmod(finish - start, 60)\n",
    "diff_sec, diff_msec = divmod(diff_sec, 1)\n",
    "diff_msec *= 1000\n",
    "\n",
    "output_str = \"The time taken for reading the file with Pandas: {:02d} min {:02d} sec {:.0f} ms\".format(int(diff_min), int(diff_sec), diff_msec)\n",
    "\n",
    "print(output_str)\n",
    "gc.collect()"
   ]
  },
  {
   "cell_type": "markdown",
   "metadata": {},
   "source": [
    "### Read the file with Dask"
   ]
  },
  {
   "cell_type": "code",
   "execution_count": 3,
   "metadata": {},
   "outputs": [
    {
     "name": "stdout",
     "output_type": "stream",
     "text": [
      "The time taken for reading the file with Dask: 00 min 00 sec 18 ms\n"
     ]
    },
    {
     "data": {
      "text/plain": [
       "0"
      ]
     },
     "execution_count": 3,
     "metadata": {},
     "output_type": "execute_result"
    }
   ],
   "source": [
    "start = time.time()\n",
    "\n",
    "dask_df = dd.read_csv('Parking_Violations_Issued_-_Fiscal_Year_2017.csv')\n",
    "\n",
    "finish = time.time()\n",
    "\n",
    "diff_min, diff_sec = divmod(finish - start, 60)\n",
    "diff_sec, diff_msec = divmod(diff_sec, 1)\n",
    "diff_msec *= 1000\n",
    "\n",
    "output_str = \"The time taken for reading the file with Dask: {:02d} min {:02d} sec {:.0f} ms\".format(int(diff_min), int(diff_sec), diff_msec)\n",
    "\n",
    "print(output_str)\n",
    "gc.collect()"
   ]
  },
  {
   "cell_type": "code",
   "execution_count": 4,
   "metadata": {},
   "outputs": [
    {
     "data": {
      "text/html": [
       "<div>\n",
       "<style scoped>\n",
       "    .dataframe tbody tr th:only-of-type {\n",
       "        vertical-align: middle;\n",
       "    }\n",
       "\n",
       "    .dataframe tbody tr th {\n",
       "        vertical-align: top;\n",
       "    }\n",
       "\n",
       "    .dataframe thead th {\n",
       "        text-align: right;\n",
       "    }\n",
       "</style>\n",
       "<table border=\"1\" class=\"dataframe\">\n",
       "  <thead>\n",
       "    <tr style=\"text-align: right;\">\n",
       "      <th></th>\n",
       "      <th>Summons Number</th>\n",
       "      <th>Plate ID</th>\n",
       "      <th>Registration State</th>\n",
       "      <th>Plate Type</th>\n",
       "      <th>Issue Date</th>\n",
       "      <th>Violation Code</th>\n",
       "      <th>Vehicle Body Type</th>\n",
       "      <th>Vehicle Make</th>\n",
       "      <th>Issuing Agency</th>\n",
       "      <th>Street Code1</th>\n",
       "      <th>...</th>\n",
       "      <th>Vehicle Color</th>\n",
       "      <th>Unregistered Vehicle?</th>\n",
       "      <th>Vehicle Year</th>\n",
       "      <th>Meter Number</th>\n",
       "      <th>Feet From Curb</th>\n",
       "      <th>Violation Post Code</th>\n",
       "      <th>Violation Description</th>\n",
       "      <th>No Standing or Stopping Violation</th>\n",
       "      <th>Hydrant Violation</th>\n",
       "      <th>Double Parking Violation</th>\n",
       "    </tr>\n",
       "  </thead>\n",
       "  <tbody>\n",
       "    <tr>\n",
       "      <th>0</th>\n",
       "      <td>5092469481</td>\n",
       "      <td>GZH7067</td>\n",
       "      <td>NY</td>\n",
       "      <td>PAS</td>\n",
       "      <td>7/10/2016</td>\n",
       "      <td>7</td>\n",
       "      <td>SUBN</td>\n",
       "      <td>TOYOT</td>\n",
       "      <td>V</td>\n",
       "      <td>0</td>\n",
       "      <td>...</td>\n",
       "      <td>GY</td>\n",
       "      <td>NaN</td>\n",
       "      <td>2001</td>\n",
       "      <td>NaN</td>\n",
       "      <td>0</td>\n",
       "      <td>NaN</td>\n",
       "      <td>FAILURE TO STOP AT RED LIGHT</td>\n",
       "      <td>NaN</td>\n",
       "      <td>NaN</td>\n",
       "      <td>NaN</td>\n",
       "    </tr>\n",
       "    <tr>\n",
       "      <th>1</th>\n",
       "      <td>5092451658</td>\n",
       "      <td>GZH7067</td>\n",
       "      <td>NY</td>\n",
       "      <td>PAS</td>\n",
       "      <td>7/8/2016</td>\n",
       "      <td>7</td>\n",
       "      <td>SUBN</td>\n",
       "      <td>TOYOT</td>\n",
       "      <td>V</td>\n",
       "      <td>0</td>\n",
       "      <td>...</td>\n",
       "      <td>GY</td>\n",
       "      <td>NaN</td>\n",
       "      <td>2001</td>\n",
       "      <td>NaN</td>\n",
       "      <td>0</td>\n",
       "      <td>NaN</td>\n",
       "      <td>FAILURE TO STOP AT RED LIGHT</td>\n",
       "      <td>NaN</td>\n",
       "      <td>NaN</td>\n",
       "      <td>NaN</td>\n",
       "    </tr>\n",
       "    <tr>\n",
       "      <th>2</th>\n",
       "      <td>4006265037</td>\n",
       "      <td>FZX9232</td>\n",
       "      <td>NY</td>\n",
       "      <td>PAS</td>\n",
       "      <td>8/23/2016</td>\n",
       "      <td>5</td>\n",
       "      <td>SUBN</td>\n",
       "      <td>FORD</td>\n",
       "      <td>V</td>\n",
       "      <td>0</td>\n",
       "      <td>...</td>\n",
       "      <td>BK</td>\n",
       "      <td>NaN</td>\n",
       "      <td>2004</td>\n",
       "      <td>NaN</td>\n",
       "      <td>0</td>\n",
       "      <td>NaN</td>\n",
       "      <td>BUS LANE VIOLATION</td>\n",
       "      <td>NaN</td>\n",
       "      <td>NaN</td>\n",
       "      <td>NaN</td>\n",
       "    </tr>\n",
       "    <tr>\n",
       "      <th>3</th>\n",
       "      <td>8478629828</td>\n",
       "      <td>66623ME</td>\n",
       "      <td>NY</td>\n",
       "      <td>COM</td>\n",
       "      <td>6/14/2017</td>\n",
       "      <td>47</td>\n",
       "      <td>REFG</td>\n",
       "      <td>MITSU</td>\n",
       "      <td>T</td>\n",
       "      <td>10610</td>\n",
       "      <td>...</td>\n",
       "      <td>WH</td>\n",
       "      <td>NaN</td>\n",
       "      <td>2007</td>\n",
       "      <td>NaN</td>\n",
       "      <td>0</td>\n",
       "      <td>4</td>\n",
       "      <td>47-Double PKG-Midtown</td>\n",
       "      <td>NaN</td>\n",
       "      <td>NaN</td>\n",
       "      <td>NaN</td>\n",
       "    </tr>\n",
       "    <tr>\n",
       "      <th>4</th>\n",
       "      <td>7868300310</td>\n",
       "      <td>37033JV</td>\n",
       "      <td>NY</td>\n",
       "      <td>COM</td>\n",
       "      <td>11/21/2016</td>\n",
       "      <td>69</td>\n",
       "      <td>DELV</td>\n",
       "      <td>INTER</td>\n",
       "      <td>T</td>\n",
       "      <td>10510</td>\n",
       "      <td>...</td>\n",
       "      <td>WHITE</td>\n",
       "      <td>NaN</td>\n",
       "      <td>2007</td>\n",
       "      <td>NaN</td>\n",
       "      <td>0</td>\n",
       "      <td>31 6</td>\n",
       "      <td>69-Failure to Disp Muni Recpt</td>\n",
       "      <td>NaN</td>\n",
       "      <td>NaN</td>\n",
       "      <td>NaN</td>\n",
       "    </tr>\n",
       "  </tbody>\n",
       "</table>\n",
       "<p>5 rows × 43 columns</p>\n",
       "</div>"
      ],
      "text/plain": [
       "   Summons Number Plate ID Registration State Plate Type  Issue Date  \\\n",
       "0      5092469481  GZH7067                 NY        PAS   7/10/2016   \n",
       "1      5092451658  GZH7067                 NY        PAS    7/8/2016   \n",
       "2      4006265037  FZX9232                 NY        PAS   8/23/2016   \n",
       "3      8478629828  66623ME                 NY        COM   6/14/2017   \n",
       "4      7868300310  37033JV                 NY        COM  11/21/2016   \n",
       "\n",
       "   Violation Code Vehicle Body Type Vehicle Make Issuing Agency  Street Code1  \\\n",
       "0               7              SUBN        TOYOT              V             0   \n",
       "1               7              SUBN        TOYOT              V             0   \n",
       "2               5              SUBN         FORD              V             0   \n",
       "3              47              REFG        MITSU              T         10610   \n",
       "4              69              DELV        INTER              T         10510   \n",
       "\n",
       "   ...  Vehicle Color  Unregistered Vehicle?  Vehicle Year  Meter Number  \\\n",
       "0  ...             GY                    NaN          2001           NaN   \n",
       "1  ...             GY                    NaN          2001           NaN   \n",
       "2  ...             BK                    NaN          2004           NaN   \n",
       "3  ...             WH                    NaN          2007           NaN   \n",
       "4  ...          WHITE                    NaN          2007           NaN   \n",
       "\n",
       "   Feet From Curb  Violation Post Code          Violation Description  \\\n",
       "0               0                  NaN   FAILURE TO STOP AT RED LIGHT   \n",
       "1               0                  NaN   FAILURE TO STOP AT RED LIGHT   \n",
       "2               0                  NaN             BUS LANE VIOLATION   \n",
       "3               0                    4          47-Double PKG-Midtown   \n",
       "4               0                 31 6  69-Failure to Disp Muni Recpt   \n",
       "\n",
       "  No Standing or Stopping Violation Hydrant Violation Double Parking Violation  \n",
       "0                               NaN               NaN                      NaN  \n",
       "1                               NaN               NaN                      NaN  \n",
       "2                               NaN               NaN                      NaN  \n",
       "3                               NaN               NaN                      NaN  \n",
       "4                               NaN               NaN                      NaN  \n",
       "\n",
       "[5 rows x 43 columns]"
      ]
     },
     "execution_count": 4,
     "metadata": {},
     "output_type": "execute_result"
    }
   ],
   "source": [
    "dtype = {\n",
    "    'House Number': 'object',\n",
    "    'Time First Observed': 'object',\n",
    "}\n",
    "\n",
    "# Read the CSV file with specified data types\n",
    "dask_df = dd.read_csv('Parking_Violations_Issued_-_Fiscal_Year_2017.csv', dtype=dtype)\n",
    "\n",
    "# Display the first few rows\n",
    "dask_df.head()"
   ]
  },
  {
   "cell_type": "code",
   "execution_count": 5,
   "metadata": {},
   "outputs": [
    {
     "name": "stdout",
     "output_type": "stream",
     "text": [
      "<class 'dask.dataframe.core.DataFrame'>\n",
      "Columns: 43 entries, Summons Number to Double Parking Violation\n",
      "dtypes: object(25), float64(5), int64(13)"
     ]
    }
   ],
   "source": [
    "dask_df.info()"
   ]
  },
  {
   "cell_type": "code",
   "execution_count": 6,
   "metadata": {},
   "outputs": [
    {
     "name": "stdout",
     "output_type": "stream",
     "text": [
      "Performing simple string removal from the columns: 00 min 00 sec 11 ms\n"
     ]
    },
    {
     "name": "stderr",
     "output_type": "stream",
     "text": [
      "C:\\Users\\User1\\AppData\\Local\\Temp\\ipykernel_17080\\1558175848.py:4: FutureWarning: The default value of regex will change from True to False in a future version.\n",
      "  dask_df.columns = dask_df.columns.str.replace('[#,@,&,.,1]','')\n"
     ]
    }
   ],
   "source": [
    "start = time.time()\n",
    "\n",
    "# remove special character\n",
    "dask_df.columns = dask_df.columns.str.replace('[#,@,&,.,1]','')\n",
    "\n",
    "# removing whitespaces\n",
    "dask_df.columns = dask_df.columns.str.replace(' ', '')\n",
    "\n",
    "finish = time.time()\n",
    "diff_min, diff_sec = divmod(finish - start, 60)\n",
    "diff_sec, diff_msec = divmod(diff_sec, 1)\n",
    "diff_msec *= 1000\n",
    "\n",
    "output_str = \"Performing simple string removal from the columns: {:02d} min {:02d} sec {:.0f} ms\".format(int(diff_min), int(diff_sec), diff_msec)\n",
    "\n",
    "print(output_str)"
   ]
  },
  {
   "cell_type": "markdown",
   "metadata": {},
   "source": [
    "### Validation with YAML"
   ]
  },
  {
   "cell_type": "code",
   "execution_count": 7,
   "metadata": {},
   "outputs": [
    {
     "name": "stdout",
     "output_type": "stream",
     "text": [
      "Overwriting testutility.py\n"
     ]
    }
   ],
   "source": [
    "%%writefile testutility.py\n",
    "import logging\n",
    "import os\n",
    "import subprocess\n",
    "import yaml\n",
    "import pandas as pd\n",
    "import datetime \n",
    "import gc\n",
    "import re\n",
    "\n",
    "def read_config_file(filepath):\n",
    "    with open(filepath, 'r') as stream:\n",
    "        try:\n",
    "            return yaml.safe_load(stream)\n",
    "        except yaml.YAMLError as exc:\n",
    "            logging.error(exc)\n",
    "\n",
    "\n",
    "def replacer(string, char):\n",
    "    pattern = char + '{2,}'\n",
    "    string = re.sub(pattern, char, string) \n",
    "    return string\n",
    "\n",
    "def col_header_val(df,table_config):\n",
    "    '''\n",
    "    replace whitespaces in the column\n",
    "    and standardized column names\n",
    "    '''\n",
    "    df.columns = df.columns.str.lower()\n",
    "    df.columns = df.columns.str.replace('[^\\w]','_',regex=True)\n",
    "    df.columns = list(map(lambda x: x.strip('_'), list(df.columns)))\n",
    "    df.columns = list(map(lambda x: replacer(x,'_'), list(df.columns)))\n",
    "    expected_col = list(map(lambda x: x.lower(),  table_config['columns']))\n",
    "    expected_col.sort()\n",
    "    df.columns =list(map(lambda x: x.lower(), list(df.columns)))\n",
    "    df = df.reindex(sorted(df.columns), axis=1)\n",
    "    if len(df.columns) == len(expected_col) and list(expected_col)  == list(df.columns):\n",
    "        print(\"column name and column length validation passed\")\n",
    "        return 1\n",
    "    else:\n",
    "        print(\"column name and column length validation failed\")\n",
    "        mismatched_columns_file = list(set(df.columns).difference(expected_col))\n",
    "        print(\"Following File columns are not in the YAML file\",mismatched_columns_file)\n",
    "        missing_YAML_file = list(set(expected_col).difference(df.columns))\n",
    "        print(\"Following YAML columns are not in the file uploaded\",missing_YAML_file)\n",
    "        logging.info(f'df columns: {df.columns}')\n",
    "        logging.info(f'expected columns: {expected_col}')\n",
    "        return 0"
   ]
  },
  {
   "cell_type": "markdown",
   "metadata": {},
   "source": [
    "### Write YAML file"
   ]
  },
  {
   "cell_type": "code",
   "execution_count": 8,
   "metadata": {},
   "outputs": [
    {
     "data": {
      "text/html": [
       "<div>\n",
       "<style scoped>\n",
       "    .dataframe tbody tr th:only-of-type {\n",
       "        vertical-align: middle;\n",
       "    }\n",
       "\n",
       "    .dataframe tbody tr th {\n",
       "        vertical-align: top;\n",
       "    }\n",
       "\n",
       "    .dataframe thead th {\n",
       "        text-align: right;\n",
       "    }\n",
       "</style>\n",
       "<table border=\"1\" class=\"dataframe\">\n",
       "  <thead>\n",
       "    <tr style=\"text-align: right;\">\n",
       "      <th></th>\n",
       "      <th>SummonsNumber</th>\n",
       "      <th>PlateID</th>\n",
       "      <th>RegistrationState</th>\n",
       "      <th>PlateType</th>\n",
       "      <th>IssueDate</th>\n",
       "      <th>ViolationCode</th>\n",
       "      <th>VehicleBodyType</th>\n",
       "      <th>VehicleMake</th>\n",
       "      <th>IssuingAgency</th>\n",
       "      <th>StreetCode</th>\n",
       "      <th>...</th>\n",
       "      <th>VehicleColor</th>\n",
       "      <th>UnregisteredVehicle?</th>\n",
       "      <th>VehicleYear</th>\n",
       "      <th>MeterNumber</th>\n",
       "      <th>FeetFromCurb</th>\n",
       "      <th>ViolationPostCode</th>\n",
       "      <th>ViolationDescription</th>\n",
       "      <th>NoStandingorStoppingViolation</th>\n",
       "      <th>HydrantViolation</th>\n",
       "      <th>DoubleParkingViolation</th>\n",
       "    </tr>\n",
       "  </thead>\n",
       "  <tbody>\n",
       "    <tr>\n",
       "      <th>0</th>\n",
       "      <td>5092469481</td>\n",
       "      <td>GZH7067</td>\n",
       "      <td>NY</td>\n",
       "      <td>PAS</td>\n",
       "      <td>7/10/2016</td>\n",
       "      <td>7</td>\n",
       "      <td>SUBN</td>\n",
       "      <td>TOYOT</td>\n",
       "      <td>V</td>\n",
       "      <td>0</td>\n",
       "      <td>...</td>\n",
       "      <td>GY</td>\n",
       "      <td>NaN</td>\n",
       "      <td>2001</td>\n",
       "      <td>NaN</td>\n",
       "      <td>0</td>\n",
       "      <td>NaN</td>\n",
       "      <td>FAILURE TO STOP AT RED LIGHT</td>\n",
       "      <td>NaN</td>\n",
       "      <td>NaN</td>\n",
       "      <td>NaN</td>\n",
       "    </tr>\n",
       "    <tr>\n",
       "      <th>1</th>\n",
       "      <td>5092451658</td>\n",
       "      <td>GZH7067</td>\n",
       "      <td>NY</td>\n",
       "      <td>PAS</td>\n",
       "      <td>7/8/2016</td>\n",
       "      <td>7</td>\n",
       "      <td>SUBN</td>\n",
       "      <td>TOYOT</td>\n",
       "      <td>V</td>\n",
       "      <td>0</td>\n",
       "      <td>...</td>\n",
       "      <td>GY</td>\n",
       "      <td>NaN</td>\n",
       "      <td>2001</td>\n",
       "      <td>NaN</td>\n",
       "      <td>0</td>\n",
       "      <td>NaN</td>\n",
       "      <td>FAILURE TO STOP AT RED LIGHT</td>\n",
       "      <td>NaN</td>\n",
       "      <td>NaN</td>\n",
       "      <td>NaN</td>\n",
       "    </tr>\n",
       "    <tr>\n",
       "      <th>2</th>\n",
       "      <td>4006265037</td>\n",
       "      <td>FZX9232</td>\n",
       "      <td>NY</td>\n",
       "      <td>PAS</td>\n",
       "      <td>8/23/2016</td>\n",
       "      <td>5</td>\n",
       "      <td>SUBN</td>\n",
       "      <td>FORD</td>\n",
       "      <td>V</td>\n",
       "      <td>0</td>\n",
       "      <td>...</td>\n",
       "      <td>BK</td>\n",
       "      <td>NaN</td>\n",
       "      <td>2004</td>\n",
       "      <td>NaN</td>\n",
       "      <td>0</td>\n",
       "      <td>NaN</td>\n",
       "      <td>BUS LANE VIOLATION</td>\n",
       "      <td>NaN</td>\n",
       "      <td>NaN</td>\n",
       "      <td>NaN</td>\n",
       "    </tr>\n",
       "    <tr>\n",
       "      <th>3</th>\n",
       "      <td>8478629828</td>\n",
       "      <td>66623ME</td>\n",
       "      <td>NY</td>\n",
       "      <td>COM</td>\n",
       "      <td>6/14/2017</td>\n",
       "      <td>47</td>\n",
       "      <td>REFG</td>\n",
       "      <td>MITSU</td>\n",
       "      <td>T</td>\n",
       "      <td>10610</td>\n",
       "      <td>...</td>\n",
       "      <td>WH</td>\n",
       "      <td>NaN</td>\n",
       "      <td>2007</td>\n",
       "      <td>NaN</td>\n",
       "      <td>0</td>\n",
       "      <td>4</td>\n",
       "      <td>47-Double PKG-Midtown</td>\n",
       "      <td>NaN</td>\n",
       "      <td>NaN</td>\n",
       "      <td>NaN</td>\n",
       "    </tr>\n",
       "    <tr>\n",
       "      <th>4</th>\n",
       "      <td>7868300310</td>\n",
       "      <td>37033JV</td>\n",
       "      <td>NY</td>\n",
       "      <td>COM</td>\n",
       "      <td>11/21/2016</td>\n",
       "      <td>69</td>\n",
       "      <td>DELV</td>\n",
       "      <td>INTER</td>\n",
       "      <td>T</td>\n",
       "      <td>10510</td>\n",
       "      <td>...</td>\n",
       "      <td>WHITE</td>\n",
       "      <td>NaN</td>\n",
       "      <td>2007</td>\n",
       "      <td>NaN</td>\n",
       "      <td>0</td>\n",
       "      <td>31 6</td>\n",
       "      <td>69-Failure to Disp Muni Recpt</td>\n",
       "      <td>NaN</td>\n",
       "      <td>NaN</td>\n",
       "      <td>NaN</td>\n",
       "    </tr>\n",
       "  </tbody>\n",
       "</table>\n",
       "<p>5 rows × 43 columns</p>\n",
       "</div>"
      ],
      "text/plain": [
       "   SummonsNumber  PlateID RegistrationState PlateType   IssueDate  \\\n",
       "0     5092469481  GZH7067                NY       PAS   7/10/2016   \n",
       "1     5092451658  GZH7067                NY       PAS    7/8/2016   \n",
       "2     4006265037  FZX9232                NY       PAS   8/23/2016   \n",
       "3     8478629828  66623ME                NY       COM   6/14/2017   \n",
       "4     7868300310  37033JV                NY       COM  11/21/2016   \n",
       "\n",
       "   ViolationCode VehicleBodyType VehicleMake IssuingAgency  StreetCode  ...  \\\n",
       "0              7            SUBN       TOYOT             V           0  ...   \n",
       "1              7            SUBN       TOYOT             V           0  ...   \n",
       "2              5            SUBN        FORD             V           0  ...   \n",
       "3             47            REFG       MITSU             T       10610  ...   \n",
       "4             69            DELV       INTER             T       10510  ...   \n",
       "\n",
       "   VehicleColor  UnregisteredVehicle?  VehicleYear  MeterNumber  FeetFromCurb  \\\n",
       "0            GY                   NaN         2001          NaN             0   \n",
       "1            GY                   NaN         2001          NaN             0   \n",
       "2            BK                   NaN         2004          NaN             0   \n",
       "3            WH                   NaN         2007          NaN             0   \n",
       "4         WHITE                   NaN         2007          NaN             0   \n",
       "\n",
       "   ViolationPostCode           ViolationDescription  \\\n",
       "0                NaN   FAILURE TO STOP AT RED LIGHT   \n",
       "1                NaN   FAILURE TO STOP AT RED LIGHT   \n",
       "2                NaN             BUS LANE VIOLATION   \n",
       "3                  4          47-Double PKG-Midtown   \n",
       "4               31 6  69-Failure to Disp Muni Recpt   \n",
       "\n",
       "  NoStandingorStoppingViolation HydrantViolation DoubleParkingViolation  \n",
       "0                           NaN              NaN                    NaN  \n",
       "1                           NaN              NaN                    NaN  \n",
       "2                           NaN              NaN                    NaN  \n",
       "3                           NaN              NaN                    NaN  \n",
       "4                           NaN              NaN                    NaN  \n",
       "\n",
       "[5 rows x 43 columns]"
      ]
     },
     "execution_count": 8,
     "metadata": {},
     "output_type": "execute_result"
    }
   ],
   "source": [
    "dask_df.head()"
   ]
  },
  {
   "cell_type": "code",
   "execution_count": 9,
   "metadata": {},
   "outputs": [
    {
     "data": {
      "text/plain": [
       "Index(['SummonsNumber', 'PlateID', 'RegistrationState', 'PlateType',\n",
       "       'IssueDate', 'ViolationCode', 'VehicleBodyType', 'VehicleMake',\n",
       "       'IssuingAgency', 'StreetCode', 'StreetCode2', 'StreetCode3',\n",
       "       'VehicleExpirationDate', 'ViolationLocation', 'ViolationPrecinct',\n",
       "       'IssuerPrecinct', 'IssuerCode', 'IssuerCommand', 'IssuerSquad',\n",
       "       'ViolationTime', 'TimeFirstObserved', 'ViolationCounty',\n",
       "       'ViolationInFrontOfOrOpposite', 'HouseNumber', 'StreetName',\n",
       "       'IntersectingStreet', 'DateFirstObserved', 'LawSection', 'SubDivision',\n",
       "       'ViolationLegalCode', 'DaysParkingInEffect', 'FromHoursInEffect',\n",
       "       'ToHoursInEffect', 'VehicleColor', 'UnregisteredVehicle?',\n",
       "       'VehicleYear', 'MeterNumber', 'FeetFromCurb', 'ViolationPostCode',\n",
       "       'ViolationDescription', 'NoStandingorStoppingViolation',\n",
       "       'HydrantViolation', 'DoubleParkingViolation'],\n",
       "      dtype='object')"
      ]
     },
     "execution_count": 9,
     "metadata": {},
     "output_type": "execute_result"
    }
   ],
   "source": [
    "dask_df.columns"
   ]
  },
  {
   "cell_type": "code",
   "execution_count": 10,
   "metadata": {},
   "outputs": [
    {
     "name": "stdout",
     "output_type": "stream",
     "text": [
      "Overwriting file.yaml\n"
     ]
    }
   ],
   "source": [
    "%%writefile file.yaml\n",
    "file_type: csv\n",
    "dataset_name: testfile\n",
    "file_name: Parking_Violations_Issued_-_Fiscal_Year_2017\n",
    "table_name: Parking_Violations_Issued\n",
    "inbound_delimiter: \",\"\n",
    "outbound_delimiter: \"|\"\n",
    "skip_leading_rows: 1\n",
    "columns: \n",
    "    - SummonsNumber\n",
    "    - PlateID\n",
    "    - RegistrationState\n",
    "    - PlateType\n",
    "    - IssueDate\n",
    "    - ViolationCode\n",
    "    - VehicleBodyType\n",
    "    - VehicleMake\n",
    "    - IssuingAgency\n",
    "    - StreetCode\n",
    "    - StreetCode2\n",
    "    - StreetCode3\n",
    "    - VehicleExpirationDate\n",
    "    - ViolationLocation\n",
    "    - ViolationPrecinct\n",
    "    - IssuerPrecinct\n",
    "    - IssuerCode\n",
    "    - IssuerCommand\n",
    "    - IssuerSquad\n",
    "    - ViolationTime\n",
    "    - TimeFirstObserved\n",
    "    - ViolationCounty\n",
    "    - ViolationInFrontOfOrOpposite\n",
    "    - HouseNumber\n",
    "    - StreetName\n",
    "    - IntersectingStreet\n",
    "    - DateFirstObserved\n",
    "    - LawSection\n",
    "    - SubDivision\n",
    "    - ViolationLegalCode\n",
    "    - DaysParkingInEffect\n",
    "    - FromHoursInEffect\n",
    "    - ToHoursInEffect\n",
    "    - VehicleColor\n",
    "    - UnregisteredVehicle?\n",
    "    - VehicleYear\n",
    "    - MeterNumber\n",
    "    - FeetFromCurb\n",
    "    - ViolationPostCode\n",
    "    - ViolationDescription\n",
    "    - NoStandingorStoppingViolation\n",
    "    - HydrantViolation\n",
    "    - DoubleParkingViolation"
   ]
  },
  {
   "cell_type": "code",
   "execution_count": 11,
   "metadata": {},
   "outputs": [],
   "source": [
    "# Read config file\n",
    "import testutility as util\n",
    "config_data = util.read_config_file(\"file.yaml\")"
   ]
  },
  {
   "cell_type": "code",
   "execution_count": 12,
   "metadata": {},
   "outputs": [
    {
     "data": {
      "text/plain": [
       "','"
      ]
     },
     "execution_count": 12,
     "metadata": {},
     "output_type": "execute_result"
    }
   ],
   "source": [
    "config_data['inbound_delimiter']"
   ]
  },
  {
   "cell_type": "code",
   "execution_count": 13,
   "metadata": {},
   "outputs": [
    {
     "data": {
      "text/plain": [
       "{'file_type': 'csv',\n",
       " 'dataset_name': 'testfile',\n",
       " 'file_name': 'Parking_Violations_Issued_-_Fiscal_Year_2017',\n",
       " 'table_name': 'Parking_Violations_Issued',\n",
       " 'inbound_delimiter': ',',\n",
       " 'outbound_delimiter': '|',\n",
       " 'skip_leading_rows': 1,\n",
       " 'columns': ['SummonsNumber',\n",
       "  'PlateID',\n",
       "  'RegistrationState',\n",
       "  'PlateType',\n",
       "  'IssueDate',\n",
       "  'ViolationCode',\n",
       "  'VehicleBodyType',\n",
       "  'VehicleMake',\n",
       "  'IssuingAgency',\n",
       "  'StreetCode',\n",
       "  'StreetCode2',\n",
       "  'StreetCode3',\n",
       "  'VehicleExpirationDate',\n",
       "  'ViolationLocation',\n",
       "  'ViolationPrecinct',\n",
       "  'IssuerPrecinct',\n",
       "  'IssuerCode',\n",
       "  'IssuerCommand',\n",
       "  'IssuerSquad',\n",
       "  'ViolationTime',\n",
       "  'TimeFirstObserved',\n",
       "  'ViolationCounty',\n",
       "  'ViolationInFrontOfOrOpposite',\n",
       "  'HouseNumber',\n",
       "  'StreetName',\n",
       "  'IntersectingStreet',\n",
       "  'DateFirstObserved',\n",
       "  'LawSection',\n",
       "  'SubDivision',\n",
       "  'ViolationLegalCode',\n",
       "  'DaysParkingInEffect',\n",
       "  'FromHoursInEffect',\n",
       "  'ToHoursInEffect',\n",
       "  'VehicleColor',\n",
       "  'UnregisteredVehicle?',\n",
       "  'VehicleYear',\n",
       "  'MeterNumber',\n",
       "  'FeetFromCurb',\n",
       "  'ViolationPostCode',\n",
       "  'ViolationDescription',\n",
       "  'NoStandingorStoppingViolation',\n",
       "  'HydrantViolation',\n",
       "  'DoubleParkingViolation']}"
      ]
     },
     "execution_count": 13,
     "metadata": {},
     "output_type": "execute_result"
    }
   ],
   "source": [
    "#inspecting data of config file\n",
    "config_data"
   ]
  },
  {
   "cell_type": "code",
   "execution_count": 14,
   "metadata": {},
   "outputs": [],
   "source": [
    "# read the file using config file\n",
    "file_type = config_data['file_type']\n",
    "source_file = config_data['file_name'] + f'.{file_type}'"
   ]
  },
  {
   "cell_type": "code",
   "execution_count": 15,
   "metadata": {},
   "outputs": [
    {
     "data": {
      "text/plain": [
       "19"
      ]
     },
     "execution_count": 15,
     "metadata": {},
     "output_type": "execute_result"
    }
   ],
   "source": [
    "del pandas_df, dask_df\n",
    "gc.collect()"
   ]
  },
  {
   "cell_type": "code",
   "execution_count": 16,
   "metadata": {},
   "outputs": [
    {
     "name": "stderr",
     "output_type": "stream",
     "text": [
      "C:\\Users\\User1\\AppData\\Local\\Temp\\ipykernel_17080\\3409947820.py:2: FutureWarning: In a future version of pandas all arguments of read_csv except for the argument 'filepath_or_buffer' will be keyword-only.\n",
      "  df = pd.read_csv(source_file,config_data['inbound_delimiter'])\n"
     ]
    },
    {
     "data": {
      "text/html": [
       "<div>\n",
       "<style scoped>\n",
       "    .dataframe tbody tr th:only-of-type {\n",
       "        vertical-align: middle;\n",
       "    }\n",
       "\n",
       "    .dataframe tbody tr th {\n",
       "        vertical-align: top;\n",
       "    }\n",
       "\n",
       "    .dataframe thead th {\n",
       "        text-align: right;\n",
       "    }\n",
       "</style>\n",
       "<table border=\"1\" class=\"dataframe\">\n",
       "  <thead>\n",
       "    <tr style=\"text-align: right;\">\n",
       "      <th></th>\n",
       "      <th>Summons Number</th>\n",
       "      <th>Plate ID</th>\n",
       "      <th>Registration State</th>\n",
       "      <th>Plate Type</th>\n",
       "      <th>Issue Date</th>\n",
       "      <th>Violation Code</th>\n",
       "      <th>Vehicle Body Type</th>\n",
       "      <th>Vehicle Make</th>\n",
       "      <th>Issuing Agency</th>\n",
       "      <th>Street Code1</th>\n",
       "      <th>...</th>\n",
       "      <th>Vehicle Color</th>\n",
       "      <th>Unregistered Vehicle?</th>\n",
       "      <th>Vehicle Year</th>\n",
       "      <th>Meter Number</th>\n",
       "      <th>Feet From Curb</th>\n",
       "      <th>Violation Post Code</th>\n",
       "      <th>Violation Description</th>\n",
       "      <th>No Standing or Stopping Violation</th>\n",
       "      <th>Hydrant Violation</th>\n",
       "      <th>Double Parking Violation</th>\n",
       "    </tr>\n",
       "  </thead>\n",
       "  <tbody>\n",
       "    <tr>\n",
       "      <th>0</th>\n",
       "      <td>5092469481</td>\n",
       "      <td>GZH7067</td>\n",
       "      <td>NY</td>\n",
       "      <td>PAS</td>\n",
       "      <td>7/10/2016</td>\n",
       "      <td>7</td>\n",
       "      <td>SUBN</td>\n",
       "      <td>TOYOT</td>\n",
       "      <td>V</td>\n",
       "      <td>0</td>\n",
       "      <td>...</td>\n",
       "      <td>GY</td>\n",
       "      <td>NaN</td>\n",
       "      <td>2001</td>\n",
       "      <td>NaN</td>\n",
       "      <td>0</td>\n",
       "      <td>NaN</td>\n",
       "      <td>FAILURE TO STOP AT RED LIGHT</td>\n",
       "      <td>NaN</td>\n",
       "      <td>NaN</td>\n",
       "      <td>NaN</td>\n",
       "    </tr>\n",
       "    <tr>\n",
       "      <th>1</th>\n",
       "      <td>5092451658</td>\n",
       "      <td>GZH7067</td>\n",
       "      <td>NY</td>\n",
       "      <td>PAS</td>\n",
       "      <td>7/8/2016</td>\n",
       "      <td>7</td>\n",
       "      <td>SUBN</td>\n",
       "      <td>TOYOT</td>\n",
       "      <td>V</td>\n",
       "      <td>0</td>\n",
       "      <td>...</td>\n",
       "      <td>GY</td>\n",
       "      <td>NaN</td>\n",
       "      <td>2001</td>\n",
       "      <td>NaN</td>\n",
       "      <td>0</td>\n",
       "      <td>NaN</td>\n",
       "      <td>FAILURE TO STOP AT RED LIGHT</td>\n",
       "      <td>NaN</td>\n",
       "      <td>NaN</td>\n",
       "      <td>NaN</td>\n",
       "    </tr>\n",
       "    <tr>\n",
       "      <th>2</th>\n",
       "      <td>4006265037</td>\n",
       "      <td>FZX9232</td>\n",
       "      <td>NY</td>\n",
       "      <td>PAS</td>\n",
       "      <td>8/23/2016</td>\n",
       "      <td>5</td>\n",
       "      <td>SUBN</td>\n",
       "      <td>FORD</td>\n",
       "      <td>V</td>\n",
       "      <td>0</td>\n",
       "      <td>...</td>\n",
       "      <td>BK</td>\n",
       "      <td>NaN</td>\n",
       "      <td>2004</td>\n",
       "      <td>NaN</td>\n",
       "      <td>0</td>\n",
       "      <td>NaN</td>\n",
       "      <td>BUS LANE VIOLATION</td>\n",
       "      <td>NaN</td>\n",
       "      <td>NaN</td>\n",
       "      <td>NaN</td>\n",
       "    </tr>\n",
       "    <tr>\n",
       "      <th>3</th>\n",
       "      <td>8478629828</td>\n",
       "      <td>66623ME</td>\n",
       "      <td>NY</td>\n",
       "      <td>COM</td>\n",
       "      <td>6/14/2017</td>\n",
       "      <td>47</td>\n",
       "      <td>REFG</td>\n",
       "      <td>MITSU</td>\n",
       "      <td>T</td>\n",
       "      <td>10610</td>\n",
       "      <td>...</td>\n",
       "      <td>WH</td>\n",
       "      <td>NaN</td>\n",
       "      <td>2007</td>\n",
       "      <td>NaN</td>\n",
       "      <td>0</td>\n",
       "      <td>4</td>\n",
       "      <td>47-Double PKG-Midtown</td>\n",
       "      <td>NaN</td>\n",
       "      <td>NaN</td>\n",
       "      <td>NaN</td>\n",
       "    </tr>\n",
       "    <tr>\n",
       "      <th>4</th>\n",
       "      <td>7868300310</td>\n",
       "      <td>37033JV</td>\n",
       "      <td>NY</td>\n",
       "      <td>COM</td>\n",
       "      <td>11/21/2016</td>\n",
       "      <td>69</td>\n",
       "      <td>DELV</td>\n",
       "      <td>INTER</td>\n",
       "      <td>T</td>\n",
       "      <td>10510</td>\n",
       "      <td>...</td>\n",
       "      <td>WHITE</td>\n",
       "      <td>NaN</td>\n",
       "      <td>2007</td>\n",
       "      <td>NaN</td>\n",
       "      <td>0</td>\n",
       "      <td>31 6</td>\n",
       "      <td>69-Failure to Disp Muni Recpt</td>\n",
       "      <td>NaN</td>\n",
       "      <td>NaN</td>\n",
       "      <td>NaN</td>\n",
       "    </tr>\n",
       "  </tbody>\n",
       "</table>\n",
       "<p>5 rows × 43 columns</p>\n",
       "</div>"
      ],
      "text/plain": [
       "   Summons Number Plate ID Registration State Plate Type  Issue Date  \\\n",
       "0      5092469481  GZH7067                 NY        PAS   7/10/2016   \n",
       "1      5092451658  GZH7067                 NY        PAS    7/8/2016   \n",
       "2      4006265037  FZX9232                 NY        PAS   8/23/2016   \n",
       "3      8478629828  66623ME                 NY        COM   6/14/2017   \n",
       "4      7868300310  37033JV                 NY        COM  11/21/2016   \n",
       "\n",
       "   Violation Code Vehicle Body Type Vehicle Make Issuing Agency  Street Code1  \\\n",
       "0               7              SUBN        TOYOT              V             0   \n",
       "1               7              SUBN        TOYOT              V             0   \n",
       "2               5              SUBN         FORD              V             0   \n",
       "3              47              REFG        MITSU              T         10610   \n",
       "4              69              DELV        INTER              T         10510   \n",
       "\n",
       "   ...  Vehicle Color  Unregistered Vehicle?  Vehicle Year  Meter Number  \\\n",
       "0  ...             GY                    NaN          2001           NaN   \n",
       "1  ...             GY                    NaN          2001           NaN   \n",
       "2  ...             BK                    NaN          2004           NaN   \n",
       "3  ...             WH                    NaN          2007           NaN   \n",
       "4  ...          WHITE                    NaN          2007           NaN   \n",
       "\n",
       "   Feet From Curb  Violation Post Code          Violation Description  \\\n",
       "0               0                  NaN   FAILURE TO STOP AT RED LIGHT   \n",
       "1               0                  NaN   FAILURE TO STOP AT RED LIGHT   \n",
       "2               0                  NaN             BUS LANE VIOLATION   \n",
       "3               0                    4          47-Double PKG-Midtown   \n",
       "4               0                 31 6  69-Failure to Disp Muni Recpt   \n",
       "\n",
       "  No Standing or Stopping Violation Hydrant Violation Double Parking Violation  \n",
       "0                               NaN               NaN                      NaN  \n",
       "1                               NaN               NaN                      NaN  \n",
       "2                               NaN               NaN                      NaN  \n",
       "3                               NaN               NaN                      NaN  \n",
       "4                               NaN               NaN                      NaN  \n",
       "\n",
       "[5 rows x 43 columns]"
      ]
     },
     "execution_count": 16,
     "metadata": {},
     "output_type": "execute_result"
    }
   ],
   "source": [
    "#print(\"\",source_file)\n",
    "df = pd.read_csv(source_file,config_data['inbound_delimiter'])\n",
    "df.head()"
   ]
  },
  {
   "cell_type": "code",
   "execution_count": 17,
   "metadata": {},
   "outputs": [
    {
     "name": "stdout",
     "output_type": "stream",
     "text": [
      "column name and column length validation failed\n",
      "Following File columns are not in the YAML file ['from_hours_in_effect', 'issuer_precinct', 'street_code2', 'street_name', 'summons_number', 'plate_id', 'no_standing_or_stopping_violation', 'issue_date', 'violation_precinct', 'days_parking_in_effect', 'law_section', 'vehicle_body_type', 'date_first_observed', 'house_number', 'intersecting_street', 'sub_division', 'vehicle_year', 'time_first_observed', 'unregistered_vehicle', 'violation_legal_code', 'meter_number', 'double_parking_violation', 'violation_county', 'vehicle_color', 'feet_from_curb', 'issuer_squad', 'hydrant_violation', 'violation_in_front_of_or_opposite', 'violation_description', 'violation_code', 'registration_state', 'to_hours_in_effect', 'issuer_command', 'issuer_code', 'vehicle_expiration_date', 'street_code1', 'violation_location', 'vehicle_make', 'violation_time', 'issuing_agency', 'plate_type', 'violation_post_code', 'street_code3']\n",
      "Following YAML columns are not in the file uploaded ['feetfromcurb', 'issuingagency', 'vehicleyear', 'summonsnumber', 'unregisteredvehicle?', 'violationpostcode', 'issuercommand', 'plateid', 'lawsection', 'issuersquad', 'platetype', 'timefirstobserved', 'nostandingorstoppingviolation', 'violationinfrontoforopposite', 'violationprecinct', 'hydrantviolation', 'fromhoursineffect', 'daysparkingineffect', 'meternumber', 'violationtime', 'violationcode', 'issuerprecinct', 'tohoursineffect', 'intersectingstreet', 'violationlocation', 'streetname', 'vehiclemake', 'violationdescription', 'registrationstate', 'vehiclecolor', 'vehiclebodytype', 'streetcode', 'violationcounty', 'streetcode2', 'issuedate', 'datefirstobserved', 'issuercode', 'doubleparkingviolation', 'housenumber', 'violationlegalcode', 'streetcode3', 'vehicleexpirationdate', 'subdivision']\n"
     ]
    },
    {
     "data": {
      "text/plain": [
       "0"
      ]
     },
     "execution_count": 17,
     "metadata": {},
     "output_type": "execute_result"
    }
   ],
   "source": [
    "#validate the header of the file\n",
    "util.col_header_val(df,config_data)"
   ]
  },
  {
   "cell_type": "code",
   "execution_count": 18,
   "metadata": {},
   "outputs": [
    {
     "name": "stdout",
     "output_type": "stream",
     "text": [
      "columns of files are: Index(['summons_number', 'plate_id', 'registration_state', 'plate_type',\n",
      "       'issue_date', 'violation_code', 'vehicle_body_type', 'vehicle_make',\n",
      "       'issuing_agency', 'street_code1', 'street_code2', 'street_code3',\n",
      "       'vehicle_expiration_date', 'violation_location', 'violation_precinct',\n",
      "       'issuer_precinct', 'issuer_code', 'issuer_command', 'issuer_squad',\n",
      "       'violation_time', 'time_first_observed', 'violation_county',\n",
      "       'violation_in_front_of_or_opposite', 'house_number', 'street_name',\n",
      "       'intersecting_street', 'date_first_observed', 'law_section',\n",
      "       'sub_division', 'violation_legal_code', 'days_parking_in_effect',\n",
      "       'from_hours_in_effect', 'to_hours_in_effect', 'vehicle_color',\n",
      "       'unregistered_vehicle', 'vehicle_year', 'meter_number',\n",
      "       'feet_from_curb', 'violation_post_code', 'violation_description',\n",
      "       'no_standing_or_stopping_violation', 'hydrant_violation',\n",
      "       'double_parking_violation'],\n",
      "      dtype='object')\n",
      "columns of YAML are: ['SummonsNumber', 'PlateID', 'RegistrationState', 'PlateType', 'IssueDate', 'ViolationCode', 'VehicleBodyType', 'VehicleMake', 'IssuingAgency', 'StreetCode', 'StreetCode2', 'StreetCode3', 'VehicleExpirationDate', 'ViolationLocation', 'ViolationPrecinct', 'IssuerPrecinct', 'IssuerCode', 'IssuerCommand', 'IssuerSquad', 'ViolationTime', 'TimeFirstObserved', 'ViolationCounty', 'ViolationInFrontOfOrOpposite', 'HouseNumber', 'StreetName', 'IntersectingStreet', 'DateFirstObserved', 'LawSection', 'SubDivision', 'ViolationLegalCode', 'DaysParkingInEffect', 'FromHoursInEffect', 'ToHoursInEffect', 'VehicleColor', 'UnregisteredVehicle?', 'VehicleYear', 'MeterNumber', 'FeetFromCurb', 'ViolationPostCode', 'ViolationDescription', 'NoStandingorStoppingViolation', 'HydrantViolation', 'DoubleParkingViolation']\n"
     ]
    }
   ],
   "source": [
    "print(\"columns of files are:\" ,df.columns)\n",
    "print(\"columns of YAML are:\" ,config_data['columns'])"
   ]
  },
  {
   "cell_type": "code",
   "execution_count": 19,
   "metadata": {},
   "outputs": [
    {
     "name": "stdout",
     "output_type": "stream",
     "text": [
      "column name and column length validation failed\n",
      "Following File columns are not in the YAML file ['from_hours_in_effect', 'issuer_precinct', 'street_code2', 'street_name', 'summons_number', 'plate_id', 'no_standing_or_stopping_violation', 'issue_date', 'violation_precinct', 'days_parking_in_effect', 'law_section', 'vehicle_body_type', 'date_first_observed', 'house_number', 'intersecting_street', 'sub_division', 'vehicle_year', 'time_first_observed', 'unregistered_vehicle', 'violation_legal_code', 'meter_number', 'double_parking_violation', 'violation_county', 'vehicle_color', 'feet_from_curb', 'issuer_squad', 'hydrant_violation', 'violation_in_front_of_or_opposite', 'violation_description', 'violation_code', 'registration_state', 'to_hours_in_effect', 'issuer_command', 'issuer_code', 'vehicle_expiration_date', 'street_code1', 'violation_location', 'vehicle_make', 'violation_time', 'issuing_agency', 'plate_type', 'violation_post_code', 'street_code3']\n",
      "Following YAML columns are not in the file uploaded ['feetfromcurb', 'issuingagency', 'vehicleyear', 'summonsnumber', 'unregisteredvehicle?', 'violationpostcode', 'issuercommand', 'plateid', 'lawsection', 'issuersquad', 'platetype', 'timefirstobserved', 'nostandingorstoppingviolation', 'violationinfrontoforopposite', 'violationprecinct', 'hydrantviolation', 'fromhoursineffect', 'daysparkingineffect', 'meternumber', 'violationtime', 'violationcode', 'issuerprecinct', 'tohoursineffect', 'intersectingstreet', 'violationlocation', 'streetname', 'vehiclemake', 'violationdescription', 'registrationstate', 'vehiclecolor', 'vehiclebodytype', 'streetcode', 'violationcounty', 'streetcode2', 'issuedate', 'datefirstobserved', 'issuercode', 'doubleparkingviolation', 'housenumber', 'violationlegalcode', 'streetcode3', 'vehicleexpirationdate', 'subdivision']\n",
      "validation failed\n"
     ]
    }
   ],
   "source": [
    "if util.col_header_val(df,config_data)==0:\n",
    "    print(\"validation failed\")\n",
    "else:\n",
    "    print(\"col validation passed\")\n",
    "    df_clean = df.fillna(0)\n",
    "    df_transformed = df_clean.apply(lambda x: x**2)\n",
    "    df_transformed.to_csv('Parking_Violations_Issued_-_Fiscal_Year_2017.csv')"
   ]
  },
  {
   "cell_type": "code",
   "execution_count": 20,
   "metadata": {},
   "outputs": [
    {
     "name": "stderr",
     "output_type": "stream",
     "text": [
      "c:\\Users\\User1\\AppData\\Local\\Programs\\Python\\Python310\\lib\\site-packages\\dask\\dataframe\\io\\csv.py:793: FutureWarning: the 'line_terminator'' keyword is deprecated, use 'lineterminator' instead.\n",
      "  df.to_csv(f, **kwargs)\n"
     ]
    },
    {
     "data": {
      "text/plain": [
       "['d:\\\\Data Glacier\\\\Week 6\\\\Parking_Violations_Issued_-_Fiscal_Year_2017.csv.gz\\\\0.part',\n",
       " 'd:\\\\Data Glacier\\\\Week 6\\\\Parking_Violations_Issued_-_Fiscal_Year_2017.csv.gz\\\\1.part',\n",
       " 'd:\\\\Data Glacier\\\\Week 6\\\\Parking_Violations_Issued_-_Fiscal_Year_2017.csv.gz\\\\2.part']"
      ]
     },
     "execution_count": 20,
     "metadata": {},
     "output_type": "execute_result"
    }
   ],
   "source": [
    "# Define data types for problematic columns\n",
    "dtype = {\n",
    "    'House Number': 'object',\n",
    "    'Time First Observed': 'object',\n",
    "}\n",
    "\n",
    "# Read the CSV file with specified data types\n",
    "df = dd.read_csv('Parking_Violations_Issued_-_Fiscal_Year_2017.csv', dtype=dtype)\n",
    "\n",
    "# Write csv in gz format in pipe separated text file (|)\n",
    "df.to_csv('Parking_Violations_Issued_-_Fiscal_Year_2017.csv.gz',\n",
    "          sep='|',\n",
    "          header=True,\n",
    "          index=False,\n",
    "          quoting=csv.QUOTE_ALL,\n",
    "          compression='gzip',\n",
    "          quotechar='\"',\n",
    "          doublequote=True,\n",
    "          line_terminator='\\n')"
   ]
  },
  {
   "cell_type": "code",
   "execution_count": 21,
   "metadata": {},
   "outputs": [
    {
     "name": "stdout",
     "output_type": "stream",
     "text": [
      "File summary:\n",
      "Number of rows: 1048575\n",
      "Number of columns: 43\n",
      "File size: 0 bytes\n"
     ]
    }
   ],
   "source": [
    "# Get file summary\n",
    "file_size = os.path.getsize('Parking_Violations_Issued_-_Fiscal_Year_2017.csv.gz')\n",
    "num_rows = len(df)\n",
    "num_cols = len(df.columns)\n",
    "\n",
    "# Print file summary\n",
    "print(\"File summary:\")\n",
    "print(f\"Number of rows: {num_rows}\")\n",
    "print(f\"Number of columns: {num_cols}\")\n",
    "print(f\"File size: {file_size} bytes\")"
   ]
  },
  {
   "cell_type": "code",
   "execution_count": null,
   "metadata": {},
   "outputs": [],
   "source": []
  }
 ],
 "metadata": {
  "kernelspec": {
   "display_name": "Python 3",
   "language": "python",
   "name": "python3"
  },
  "language_info": {
   "codemirror_mode": {
    "name": "ipython",
    "version": 3
   },
   "file_extension": ".py",
   "mimetype": "text/x-python",
   "name": "python",
   "nbconvert_exporter": "python",
   "pygments_lexer": "ipython3",
   "version": "3.10.7"
  }
 },
 "nbformat": 4,
 "nbformat_minor": 2
}
